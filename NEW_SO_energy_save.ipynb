{
 "cells": [
  {
   "cell_type": "markdown",
   "metadata": {},
   "source": [
    "## Code to save output of vh, uh and h along isopycnals for Southern Ocean\n",
    "\n",
    "using xgcm conservative binning, described at: https://xgcm.readthedocs.io/en/latest/transform.html"
   ]
  },
  {
   "cell_type": "code",
   "execution_count": 1,
   "metadata": {},
   "outputs": [],
   "source": [
    "%matplotlib inline\n",
    "\n",
    "import cosima_cookbook as cc\n",
    "from cosima_cookbook import distributed as ccd\n",
    "import matplotlib.pyplot as plt\n",
    "import numpy as np\n",
    "import netCDF4 as nc\n",
    "import xarray as xr\n",
    "import glob\n",
    "import cmocean.cm as cmocean\n",
    "#from gsw import SA_from_SP, p_from_z, sigma1\n",
    "import xgcm\n",
    "import logging\n",
    "logging.captureWarnings(True)\n",
    "logging.getLogger('py.warnings').setLevel(logging.ERROR)\n",
    "\n",
    "from dask.distributed import Client"
   ]
  },
  {
   "cell_type": "markdown",
   "metadata": {},
   "source": [
    "Set up some parameters and open cluster."
   ]
  },
  {
   "cell_type": "code",
   "execution_count": 2,
   "metadata": {},
   "outputs": [
    {
     "data": {
      "text/html": [
       "<table style=\"border: 2px solid white;\">\n",
       "<tr>\n",
       "<td style=\"vertical-align: top; border: 0px solid white\">\n",
       "<h3 style=\"text-align: left;\">Client</h3>\n",
       "<ul style=\"text-align: left; list-style: none; margin: 0; padding: 0;\">\n",
       "  <li><b>Scheduler: </b>tcp://127.0.0.1:36965</li>\n",
       "  <li><b>Dashboard: </b><a href='/proxy/8787/status' target='_blank'>/proxy/8787/status</a></li>\n",
       "</ul>\n",
       "</td>\n",
       "<td style=\"vertical-align: top; border: 0px solid white\">\n",
       "<h3 style=\"text-align: left;\">Cluster</h3>\n",
       "<ul style=\"text-align: left; list-style:none; margin: 0; padding: 0;\">\n",
       "  <li><b>Workers: </b>8</li>\n",
       "  <li><b>Cores: </b>48</li>\n",
       "  <li><b>Memory: </b>188.57 GiB</li>\n",
       "</ul>\n",
       "</td>\n",
       "</tr>\n",
       "</table>"
      ],
      "text/plain": [
       "<Client: 'tcp://127.0.0.1:36965' processes=8 threads=48, memory=188.57 GiB>"
      ]
     },
     "execution_count": 2,
     "metadata": {},
     "output_type": "execute_result"
    }
   ],
   "source": [
    "client = Client()\n",
    "client"
   ]
  },
  {
   "cell_type": "code",
   "execution_count": 3,
   "metadata": {},
   "outputs": [],
   "source": [
    "session = cc.database.create_session('/g/data/ik11/databases/cosima_master.db')"
   ]
  },
  {
   "cell_type": "code",
   "execution_count": 4,
   "metadata": {},
   "outputs": [],
   "source": [
    "# #### get run count argument that was passed to python script #### (for PBS script)\n",
    "# import sys\n",
    "# run_count = int(sys.argv[1])\n"
   ]
  },
  {
   "cell_type": "code",
   "execution_count": 19,
   "metadata": {},
   "outputs": [],
   "source": [
    "run_count = 1"
   ]
  },
  {
   "cell_type": "code",
   "execution_count": 20,
   "metadata": {},
   "outputs": [
    {
     "data": {
      "text/plain": [
       "'01'"
      ]
     },
     "execution_count": 20,
     "metadata": {},
     "output_type": "execute_result"
    }
   ],
   "source": [
    "if run_count<10:\n",
    "    month = '0'+str(run_count)\n",
    "elif run_count ==10:\n",
    "    month = '10'\n",
    "elif run_count ==11:\n",
    "    month = '11'\n",
    "elif run_count ==12:\n",
    "    month = '12'\n",
    "month"
   ]
  },
  {
   "cell_type": "code",
   "execution_count": 21,
   "metadata": {},
   "outputs": [],
   "source": [
    "year = '2170'\n",
    "expt = '01deg_jra55v13_ryf9091'\n",
    "\n",
    "time_slice= year + '-' + month\n",
    "start_time = year + '-01-01'\n",
    "end_time= year + '-12-31'\n",
    "\n",
    "# reference density value:\n",
    "rho_0 = 1035.0\n",
    "## FULL SO latitude range##\n",
    "lat_range = slice(-70,-34.99)\n",
    "lat_range_big =  slice(-70.05,-34.90)\n",
    "\n"
   ]
  },
  {
   "cell_type": "code",
   "execution_count": 22,
   "metadata": {},
   "outputs": [
    {
     "name": "stdout",
     "output_type": "stream",
     "text": [
      "CPU times: user 869 ms, sys: 91.8 ms, total: 961 ms\n",
      "Wall time: 6.99 s\n"
     ]
    }
   ],
   "source": [
    "%%time\n",
    "\n",
    "yt_ocean = cc.querying.getvar(expt,'yt_ocean',session,n=1)\n",
    "yt_ocean = yt_ocean.sel(yt_ocean=lat_range)\n",
    "xt_ocean = cc.querying.getvar(expt,'xt_ocean',session,n=1)\n"
   ]
  },
  {
   "cell_type": "markdown",
   "metadata": {},
   "source": [
    "### Load quantities\n"
   ]
  },
  {
   "cell_type": "markdown",
   "metadata": {},
   "source": [
    "Load daily vhrho, uhrho, dzt and density for the year chosen and select latitude/longitude region."
   ]
  },
  {
   "cell_type": "code",
   "execution_count": 23,
   "metadata": {},
   "outputs": [
    {
     "name": "stdout",
     "output_type": "stream",
     "text": [
      "CPU times: user 4.11 s, sys: 327 ms, total: 4.44 s\n",
      "Wall time: 10.3 s\n"
     ]
    }
   ],
   "source": [
    "%%time\n",
    "\n",
    "# Note vhrho_nt is v*dz*1035 and is positioned on north centre edge of t-cell.\n",
    "vhrho = cc.querying.getvar(expt,'vhrho_nt',session,start_time=start_time, end_time=end_time)\n",
    "uhrho = cc.querying.getvar(expt,'uhrho_et',session,start_time=start_time, end_time=end_time)\n",
    "\n",
    "# select latitude range and this month:\n",
    "vhrho = vhrho.sel(yt_ocean=lat_range_big).sel(time=time_slice)\n",
    "uhrho = uhrho.sel(yt_ocean=lat_range).sel(time=time_slice)\n"
   ]
  },
  {
   "cell_type": "markdown",
   "metadata": {},
   "source": [
    "Since vh_rho at northern edge of cell and uhrho at eastern edge, need to interpolate to tracer grid centre so that correct binning occurs, as density is in centre of t cell. Hence, interpolate uhrho in x direction and interpolate vhrho in y direction. uhrho is easy because it is periodic bouncaries. For vhrho, just include a latitude coordinate above and below and remove later."
   ]
  },
  {
   "cell_type": "markdown",
   "metadata": {},
   "source": [
    "### Load density and dzt"
   ]
  },
  {
   "cell_type": "code",
   "execution_count": 24,
   "metadata": {},
   "outputs": [
    {
     "name": "stdout",
     "output_type": "stream",
     "text": [
      "CPU times: user 646 ms, sys: 123 ms, total: 770 ms\n",
      "Wall time: 1.15 s\n"
     ]
    }
   ],
   "source": [
    "%%time\n",
    "\n",
    "pot_rho_1 = cc.querying.getvar(expt,'pot_rho_1',session,start_time=start_time, end_time=end_time,ncfile='%daily%')\n",
    "pot_rho_1 = pot_rho_1.sel(yt_ocean=lat_range).sel(time=time_slice)\n",
    "time = pot_rho_1.time\n"
   ]
  },
  {
   "cell_type": "code",
   "execution_count": 25,
   "metadata": {},
   "outputs": [
    {
     "name": "stdout",
     "output_type": "stream",
     "text": [
      "CPU times: user 2.33 s, sys: 459 ms, total: 2.79 s\n",
      "Wall time: 3.11 s\n"
     ]
    }
   ],
   "source": [
    "%%time\n",
    "\n",
    "dzt = cc.querying.getvar(expt,'dzt',session,start_time=start_time, end_time=end_time,ncfile='%daily%')\n",
    "dzt = dzt.sel(yt_ocean=lat_range_big).sel(time=time_slice)"
   ]
  },
  {
   "cell_type": "code",
   "execution_count": 26,
   "metadata": {},
   "outputs": [
    {
     "name": "stdout",
     "output_type": "stream",
     "text": [
      "CPU times: user 421 ms, sys: 41.1 ms, total: 462 ms\n",
      "Wall time: 668 ms\n"
     ]
    }
   ],
   "source": [
    "%%time\n",
    "\n",
    "st_ocean = cc.querying.getvar(expt,'st_ocean',session,n=1)\n"
   ]
  },
  {
   "cell_type": "code",
   "execution_count": 96,
   "metadata": {},
   "outputs": [
    {
     "name": "stdout",
     "output_type": "stream",
     "text": [
      "CPU times: user 1.15 s, sys: 942 ms, total: 2.09 s\n",
      "Wall time: 2.21 s\n"
     ]
    }
   ],
   "source": [
    "%%time\n",
    "st_edges_ocean = cc.querying.getvar(expt,'st_edges_ocean',session,n=1)\n",
    "st_edges_array = st_edges_ocean.expand_dims({'yt_ocean':yt_ocean,'xt_ocean':xt_ocean},axis=[1,2])\n",
    "\n",
    "# import bathymetry:\n",
    "ht = cc.querying.getvar(expt,'ht',session,n=1)\n",
    "ht = ht.sel(yt_ocean = lat_range)\n",
    "\n",
    "# adjust edges at bottom for partial thickness:\n",
    "st_edges_with_partial = st_edges_array.where(st_edges_array<ht,other=ht)"
   ]
  },
  {
   "cell_type": "markdown",
   "metadata": {},
   "source": [
    "### define *EDGE* of bins and get rid of NaNs"
   ]
  },
  {
   "cell_type": "code",
   "execution_count": 99,
   "metadata": {},
   "outputs": [],
   "source": [
    "### original isopycnals binned onto\n",
    "pot_rho_1_target_centre = 1000+ np.array([1,28,29,30,31,31.5,31.9,32,32.1,32.2,32.25,\n",
    "                                        32.3,32.35,32.4,32.42,32.44,32.46,32.48,32.50,32.51,\n",
    "                                        32.52,32.53,32.54,32.55,32.56,32.58,32.6,32.8,33,34,45])\n",
    "\n",
    "### edges of bins for here \n",
    "pot_rho_1_target = np.array([1000, 1027.5  , 1028.5  , 1029.5  , 1030.5  , 1031.25 , 1031.7  ,\n",
    "       1031.95 , 1032.05 , 1032.15 , 1032.225, 1032.275, 1032.325,\n",
    "       1032.39, 1032.41 , 1032.43 , 1032.45 , 1032.47 , 1032.49 ,\n",
    "       1032.505, 1032.515, 1032.525, 1032.535, 1032.545, 1032.555,\n",
    "       1032.57 , 1032.59 , 1032.7  , 1032.9  , 1033.5  , 1039.5  ,\n",
    "       1045.5])"
   ]
  },
  {
   "cell_type": "code",
   "execution_count": 100,
   "metadata": {},
   "outputs": [],
   "source": [
    "uhrho = uhrho.fillna(0)\n",
    "vhrho = vhrho.fillna(0)\n",
    "dzt = dzt.fillna(0)\n",
    "pot_rho_1 = pot_rho_1.fillna(0)"
   ]
  },
  {
   "cell_type": "markdown",
   "metadata": {},
   "source": [
    "### calculate vertical regridding into density coordinates\n",
    "\n",
    "First roll onto t grid, then set up xgcm regridding according to the tutorial."
   ]
  },
  {
   "cell_type": "code",
   "execution_count": 101,
   "metadata": {},
   "outputs": [
    {
     "name": "stdout",
     "output_type": "stream",
     "text": [
      "CPU times: user 2.84 s, sys: 148 ms, total: 2.98 s\n",
      "Wall time: 2.96 s\n"
     ]
    }
   ],
   "source": [
    "%%time\n",
    "\n",
    "#move uhrho and vhrho to t grid since uhrho is eastern side of cell and vhrho on northern\n",
    "uhrho_t = 0.5*(uhrho+uhrho.roll(xt_ocean=1, roll_coords = False)) #this takes average of adjacent cells\n",
    "\n",
    "vhrho_t = 0.5*(vhrho+vhrho.roll(yt_ocean=1, roll_coords = False))\n",
    "vhrho_t = vhrho_t[:,:,1:-1,:] # remove the outside values as their roll is incorrect\n",
    "#interpolate dzt\n",
    "dzt_j = dzt\n",
    "#vhrho and uhrho grids are from BAY(dzu) and BAX(dzu) NOT dzt: find these\n",
    "dzt_j_right = dzt_j.roll(xt_ocean = -1, roll_coords = False)\n",
    "dzt_j_up = dzt_j.roll(yt_ocean = -1,roll_coords = False)\n",
    "dzt_j_up_right=dzt_j.roll(yt_ocean = -1,roll_coords = False).roll(xt_ocean = -1, roll_coords = False)\n",
    "dzu = np.fmin(np.fmin(np.fmin(dzt_j,dzt_j_right),dzt_j_up),dzt_j_up_right)\n",
    "#now the xgrid needs BAY(dzu) while ygrid needs BAX(dzu) so that they are on uhrho and vhrho grids. we only need to do one,\n",
    "#as they are equivalent when interpolatred to t-grid. I chose to find BAX because I took dzt to have bigger lon range\n",
    "dzu_e = dzu.copy()\n",
    "dzu_w = dzu.roll(xt_ocean = 1, roll_coords=False)\n",
    "BAX_dzu = (dzu_w+dzu_e)/2    \n",
    "\n",
    "#as with vhrho these need to be moved to t-grid in the same way:\n",
    "dzu_t = 0.5*(BAX_dzu+BAX_dzu.roll(yt_ocean=1, roll_coords = False))\n",
    "dzu_t = dzu_t[:,:,1:-1,:]\n",
    "\n",
    "ds = xr.Dataset({'vhrho_nt':vhrho,'uhrho_et':uhrho,'dzt':dzt,'pot_rho_1':pot_rho_1}) ##REMEMBER TO PUT BACK TO DZU_T!!!!!####\n",
    "ds = ds.assign_coords({'st_edges_ocean':st_edges_ocean})\n",
    "ds = ds.chunk({'st_edges_ocean':76,'st_ocean':75})\n",
    "grid = xgcm.Grid(ds, coords={'Z':{'center':'st_ocean','outer':'st_edges_ocean'}},periodic = False)\n",
    "ds['pot_rho_1_outer'] = grid.interp(ds.pot_rho_1, 'Z', boundary='extend')\n",
    "ds['pot_rho_1_outer'] = ds['pot_rho_1_outer'].chunk({'st_edges_ocean':76})\n",
    "\n",
    "vhrho_transformed_cons = grid.transform(ds.vhrho_nt,\n",
    "                                  'Z',\n",
    "                                  pot_rho_1_target,\n",
    "                                  method='conservative',\n",
    "                                  target_data=ds.pot_rho_1_outer)\n",
    "uhrho_transformed_cons = grid.transform(ds.uhrho_et,\n",
    "                                  'Z',\n",
    "                                  pot_rho_1_target,\n",
    "                                  method='conservative',\n",
    "                                  target_data=ds.pot_rho_1_outer)\n",
    "\n",
    "dzu_transformed_cons = grid.transform(ds.dzt,\n",
    "                                  'Z',\n",
    "                                  pot_rho_1_target,\n",
    "                                  method='conservative',\n",
    "                                  target_data=ds.pot_rho_1_outer)"
   ]
  },
  {
   "cell_type": "code",
   "execution_count": 102,
   "metadata": {},
   "outputs": [
    {
     "data": {
      "text/html": [
       "<div><svg style=\"position: absolute; width: 0; height: 0; overflow: hidden\">\n",
       "<defs>\n",
       "<symbol id=\"icon-database\" viewBox=\"0 0 32 32\">\n",
       "<path d=\"M16 0c-8.837 0-16 2.239-16 5v4c0 2.761 7.163 5 16 5s16-2.239 16-5v-4c0-2.761-7.163-5-16-5z\"></path>\n",
       "<path d=\"M16 17c-8.837 0-16-2.239-16-5v6c0 2.761 7.163 5 16 5s16-2.239 16-5v-6c0 2.761-7.163 5-16 5z\"></path>\n",
       "<path d=\"M16 26c-8.837 0-16-2.239-16-5v6c0 2.761 7.163 5 16 5s16-2.239 16-5v-6c0 2.761-7.163 5-16 5z\"></path>\n",
       "</symbol>\n",
       "<symbol id=\"icon-file-text2\" viewBox=\"0 0 32 32\">\n",
       "<path d=\"M28.681 7.159c-0.694-0.947-1.662-2.053-2.724-3.116s-2.169-2.030-3.116-2.724c-1.612-1.182-2.393-1.319-2.841-1.319h-15.5c-1.378 0-2.5 1.121-2.5 2.5v27c0 1.378 1.122 2.5 2.5 2.5h23c1.378 0 2.5-1.122 2.5-2.5v-19.5c0-0.448-0.137-1.23-1.319-2.841zM24.543 5.457c0.959 0.959 1.712 1.825 2.268 2.543h-4.811v-4.811c0.718 0.556 1.584 1.309 2.543 2.268zM28 29.5c0 0.271-0.229 0.5-0.5 0.5h-23c-0.271 0-0.5-0.229-0.5-0.5v-27c0-0.271 0.229-0.5 0.5-0.5 0 0 15.499-0 15.5 0v7c0 0.552 0.448 1 1 1h7v19.5z\"></path>\n",
       "<path d=\"M23 26h-14c-0.552 0-1-0.448-1-1s0.448-1 1-1h14c0.552 0 1 0.448 1 1s-0.448 1-1 1z\"></path>\n",
       "<path d=\"M23 22h-14c-0.552 0-1-0.448-1-1s0.448-1 1-1h14c0.552 0 1 0.448 1 1s-0.448 1-1 1z\"></path>\n",
       "<path d=\"M23 18h-14c-0.552 0-1-0.448-1-1s0.448-1 1-1h14c0.552 0 1 0.448 1 1s-0.448 1-1 1z\"></path>\n",
       "</symbol>\n",
       "</defs>\n",
       "</svg>\n",
       "<style>/* CSS stylesheet for displaying xarray objects in jupyterlab.\n",
       " *\n",
       " */\n",
       "\n",
       ":root {\n",
       "  --xr-font-color0: var(--jp-content-font-color0, rgba(0, 0, 0, 1));\n",
       "  --xr-font-color2: var(--jp-content-font-color2, rgba(0, 0, 0, 0.54));\n",
       "  --xr-font-color3: var(--jp-content-font-color3, rgba(0, 0, 0, 0.38));\n",
       "  --xr-border-color: var(--jp-border-color2, #e0e0e0);\n",
       "  --xr-disabled-color: var(--jp-layout-color3, #bdbdbd);\n",
       "  --xr-background-color: var(--jp-layout-color0, white);\n",
       "  --xr-background-color-row-even: var(--jp-layout-color1, white);\n",
       "  --xr-background-color-row-odd: var(--jp-layout-color2, #eeeeee);\n",
       "}\n",
       "\n",
       "html[theme=dark],\n",
       "body.vscode-dark {\n",
       "  --xr-font-color0: rgba(255, 255, 255, 1);\n",
       "  --xr-font-color2: rgba(255, 255, 255, 0.54);\n",
       "  --xr-font-color3: rgba(255, 255, 255, 0.38);\n",
       "  --xr-border-color: #1F1F1F;\n",
       "  --xr-disabled-color: #515151;\n",
       "  --xr-background-color: #111111;\n",
       "  --xr-background-color-row-even: #111111;\n",
       "  --xr-background-color-row-odd: #313131;\n",
       "}\n",
       "\n",
       ".xr-wrap {\n",
       "  display: block;\n",
       "  min-width: 300px;\n",
       "  max-width: 700px;\n",
       "}\n",
       "\n",
       ".xr-text-repr-fallback {\n",
       "  /* fallback to plain text repr when CSS is not injected (untrusted notebook) */\n",
       "  display: none;\n",
       "}\n",
       "\n",
       ".xr-header {\n",
       "  padding-top: 6px;\n",
       "  padding-bottom: 6px;\n",
       "  margin-bottom: 4px;\n",
       "  border-bottom: solid 1px var(--xr-border-color);\n",
       "}\n",
       "\n",
       ".xr-header > div,\n",
       ".xr-header > ul {\n",
       "  display: inline;\n",
       "  margin-top: 0;\n",
       "  margin-bottom: 0;\n",
       "}\n",
       "\n",
       ".xr-obj-type,\n",
       ".xr-array-name {\n",
       "  margin-left: 2px;\n",
       "  margin-right: 10px;\n",
       "}\n",
       "\n",
       ".xr-obj-type {\n",
       "  color: var(--xr-font-color2);\n",
       "}\n",
       "\n",
       ".xr-sections {\n",
       "  padding-left: 0 !important;\n",
       "  display: grid;\n",
       "  grid-template-columns: 150px auto auto 1fr 20px 20px;\n",
       "}\n",
       "\n",
       ".xr-section-item {\n",
       "  display: contents;\n",
       "}\n",
       "\n",
       ".xr-section-item input {\n",
       "  display: none;\n",
       "}\n",
       "\n",
       ".xr-section-item input + label {\n",
       "  color: var(--xr-disabled-color);\n",
       "}\n",
       "\n",
       ".xr-section-item input:enabled + label {\n",
       "  cursor: pointer;\n",
       "  color: var(--xr-font-color2);\n",
       "}\n",
       "\n",
       ".xr-section-item input:enabled + label:hover {\n",
       "  color: var(--xr-font-color0);\n",
       "}\n",
       "\n",
       ".xr-section-summary {\n",
       "  grid-column: 1;\n",
       "  color: var(--xr-font-color2);\n",
       "  font-weight: 500;\n",
       "}\n",
       "\n",
       ".xr-section-summary > span {\n",
       "  display: inline-block;\n",
       "  padding-left: 0.5em;\n",
       "}\n",
       "\n",
       ".xr-section-summary-in:disabled + label {\n",
       "  color: var(--xr-font-color2);\n",
       "}\n",
       "\n",
       ".xr-section-summary-in + label:before {\n",
       "  display: inline-block;\n",
       "  content: '►';\n",
       "  font-size: 11px;\n",
       "  width: 15px;\n",
       "  text-align: center;\n",
       "}\n",
       "\n",
       ".xr-section-summary-in:disabled + label:before {\n",
       "  color: var(--xr-disabled-color);\n",
       "}\n",
       "\n",
       ".xr-section-summary-in:checked + label:before {\n",
       "  content: '▼';\n",
       "}\n",
       "\n",
       ".xr-section-summary-in:checked + label > span {\n",
       "  display: none;\n",
       "}\n",
       "\n",
       ".xr-section-summary,\n",
       ".xr-section-inline-details {\n",
       "  padding-top: 4px;\n",
       "  padding-bottom: 4px;\n",
       "}\n",
       "\n",
       ".xr-section-inline-details {\n",
       "  grid-column: 2 / -1;\n",
       "}\n",
       "\n",
       ".xr-section-details {\n",
       "  display: none;\n",
       "  grid-column: 1 / -1;\n",
       "  margin-bottom: 5px;\n",
       "}\n",
       "\n",
       ".xr-section-summary-in:checked ~ .xr-section-details {\n",
       "  display: contents;\n",
       "}\n",
       "\n",
       ".xr-array-wrap {\n",
       "  grid-column: 1 / -1;\n",
       "  display: grid;\n",
       "  grid-template-columns: 20px auto;\n",
       "}\n",
       "\n",
       ".xr-array-wrap > label {\n",
       "  grid-column: 1;\n",
       "  vertical-align: top;\n",
       "}\n",
       "\n",
       ".xr-preview {\n",
       "  color: var(--xr-font-color3);\n",
       "}\n",
       "\n",
       ".xr-array-preview,\n",
       ".xr-array-data {\n",
       "  padding: 0 5px !important;\n",
       "  grid-column: 2;\n",
       "}\n",
       "\n",
       ".xr-array-data,\n",
       ".xr-array-in:checked ~ .xr-array-preview {\n",
       "  display: none;\n",
       "}\n",
       "\n",
       ".xr-array-in:checked ~ .xr-array-data,\n",
       ".xr-array-preview {\n",
       "  display: inline-block;\n",
       "}\n",
       "\n",
       ".xr-dim-list {\n",
       "  display: inline-block !important;\n",
       "  list-style: none;\n",
       "  padding: 0 !important;\n",
       "  margin: 0;\n",
       "}\n",
       "\n",
       ".xr-dim-list li {\n",
       "  display: inline-block;\n",
       "  padding: 0;\n",
       "  margin: 0;\n",
       "}\n",
       "\n",
       ".xr-dim-list:before {\n",
       "  content: '(';\n",
       "}\n",
       "\n",
       ".xr-dim-list:after {\n",
       "  content: ')';\n",
       "}\n",
       "\n",
       ".xr-dim-list li:not(:last-child):after {\n",
       "  content: ',';\n",
       "  padding-right: 5px;\n",
       "}\n",
       "\n",
       ".xr-has-index {\n",
       "  font-weight: bold;\n",
       "}\n",
       "\n",
       ".xr-var-list,\n",
       ".xr-var-item {\n",
       "  display: contents;\n",
       "}\n",
       "\n",
       ".xr-var-item > div,\n",
       ".xr-var-item label,\n",
       ".xr-var-item > .xr-var-name span {\n",
       "  background-color: var(--xr-background-color-row-even);\n",
       "  margin-bottom: 0;\n",
       "}\n",
       "\n",
       ".xr-var-item > .xr-var-name:hover span {\n",
       "  padding-right: 5px;\n",
       "}\n",
       "\n",
       ".xr-var-list > li:nth-child(odd) > div,\n",
       ".xr-var-list > li:nth-child(odd) > label,\n",
       ".xr-var-list > li:nth-child(odd) > .xr-var-name span {\n",
       "  background-color: var(--xr-background-color-row-odd);\n",
       "}\n",
       "\n",
       ".xr-var-name {\n",
       "  grid-column: 1;\n",
       "}\n",
       "\n",
       ".xr-var-dims {\n",
       "  grid-column: 2;\n",
       "}\n",
       "\n",
       ".xr-var-dtype {\n",
       "  grid-column: 3;\n",
       "  text-align: right;\n",
       "  color: var(--xr-font-color2);\n",
       "}\n",
       "\n",
       ".xr-var-preview {\n",
       "  grid-column: 4;\n",
       "}\n",
       "\n",
       ".xr-var-name,\n",
       ".xr-var-dims,\n",
       ".xr-var-dtype,\n",
       ".xr-preview,\n",
       ".xr-attrs dt {\n",
       "  white-space: nowrap;\n",
       "  overflow: hidden;\n",
       "  text-overflow: ellipsis;\n",
       "  padding-right: 10px;\n",
       "}\n",
       "\n",
       ".xr-var-name:hover,\n",
       ".xr-var-dims:hover,\n",
       ".xr-var-dtype:hover,\n",
       ".xr-attrs dt:hover {\n",
       "  overflow: visible;\n",
       "  width: auto;\n",
       "  z-index: 1;\n",
       "}\n",
       "\n",
       ".xr-var-attrs,\n",
       ".xr-var-data {\n",
       "  display: none;\n",
       "  background-color: var(--xr-background-color) !important;\n",
       "  padding-bottom: 5px !important;\n",
       "}\n",
       "\n",
       ".xr-var-attrs-in:checked ~ .xr-var-attrs,\n",
       ".xr-var-data-in:checked ~ .xr-var-data {\n",
       "  display: block;\n",
       "}\n",
       "\n",
       ".xr-var-data > table {\n",
       "  float: right;\n",
       "}\n",
       "\n",
       ".xr-var-name span,\n",
       ".xr-var-data,\n",
       ".xr-attrs {\n",
       "  padding-left: 25px !important;\n",
       "}\n",
       "\n",
       ".xr-attrs,\n",
       ".xr-var-attrs,\n",
       ".xr-var-data {\n",
       "  grid-column: 1 / -1;\n",
       "}\n",
       "\n",
       "dl.xr-attrs {\n",
       "  padding: 0;\n",
       "  margin: 0;\n",
       "  display: grid;\n",
       "  grid-template-columns: 125px auto;\n",
       "}\n",
       "\n",
       ".xr-attrs dt,\n",
       ".xr-attrs dd {\n",
       "  padding: 0;\n",
       "  margin: 0;\n",
       "  float: left;\n",
       "  padding-right: 10px;\n",
       "  width: auto;\n",
       "}\n",
       "\n",
       ".xr-attrs dt {\n",
       "  font-weight: normal;\n",
       "  grid-column: 1;\n",
       "}\n",
       "\n",
       ".xr-attrs dt:hover span {\n",
       "  display: inline-block;\n",
       "  background: var(--xr-background-color);\n",
       "  padding-right: 10px;\n",
       "}\n",
       "\n",
       ".xr-attrs dd {\n",
       "  grid-column: 2;\n",
       "  white-space: pre-wrap;\n",
       "  word-break: break-all;\n",
       "}\n",
       "\n",
       ".xr-icon-database,\n",
       ".xr-icon-file-text2 {\n",
       "  display: inline-block;\n",
       "  vertical-align: middle;\n",
       "  width: 1em;\n",
       "  height: 1.5em !important;\n",
       "  stroke-width: 0;\n",
       "  stroke: currentColor;\n",
       "  fill: currentColor;\n",
       "}\n",
       "</style><pre class='xr-text-repr-fallback'>&lt;xarray.DataArray &#x27;dzt&#x27; (time: 31, yt_ocean: 610, xt_ocean: 3600, pot_rho_1_outer: 31)&gt;\n",
       "dask.array&lt;transpose, shape=(31, 610, 3600, 31), dtype=float32, chunksize=(1, 300, 400, 31), chunktype=numpy.ndarray&gt;\n",
       "Coordinates:\n",
       "  * yt_ocean         (yt_ocean) float64 -70.04 -70.0 -69.96 ... -35.04 -34.96\n",
       "  * xt_ocean         (xt_ocean) float64 -279.9 -279.8 -279.7 ... 79.85 79.95\n",
       "  * time             (time) object 2170-01-01 12:00:00 ... 2170-01-31 12:00:00\n",
       "  * pot_rho_1_outer  (pot_rho_1_outer) float64 1.014e+03 1.028e+03 ... 1.042e+03</pre><div class='xr-wrap' hidden><div class='xr-header'><div class='xr-obj-type'>xarray.DataArray</div><div class='xr-array-name'>'dzt'</div><ul class='xr-dim-list'><li><span class='xr-has-index'>time</span>: 31</li><li><span class='xr-has-index'>yt_ocean</span>: 610</li><li><span class='xr-has-index'>xt_ocean</span>: 3600</li><li><span class='xr-has-index'>pot_rho_1_outer</span>: 31</li></ul></div><ul class='xr-sections'><li class='xr-section-item'><div class='xr-array-wrap'><input id='section-e4f8a561-27cd-4415-b0b4-650e2f2e101a' class='xr-array-in' type='checkbox' checked><label for='section-e4f8a561-27cd-4415-b0b4-650e2f2e101a' title='Show/hide data repr'><svg class='icon xr-icon-database'><use xlink:href='#icon-database'></use></svg></label><div class='xr-array-preview xr-preview'><span>dask.array&lt;chunksize=(1, 38, 400, 31), meta=np.ndarray&gt;</span></div><div class='xr-array-data'><table>\n",
       "<tr>\n",
       "<td>\n",
       "<table>\n",
       "  <thead>\n",
       "    <tr><td> </td><th> Array </th><th> Chunk </th></tr>\n",
       "  </thead>\n",
       "  <tbody>\n",
       "    <tr><th> Bytes </th><td> 7.86 GiB </td> <td> 14.19 MiB </td></tr>\n",
       "    <tr><th> Shape </th><td> (31, 610, 3600, 31) </td> <td> (1, 300, 400, 31) </td></tr>\n",
       "    <tr><th> Count </th><td> 1930955 Tasks </td><td> 837 Chunks </td></tr>\n",
       "    <tr><th> Type </th><td> float32 </td><td> numpy.ndarray </td></tr>\n",
       "  </tbody>\n",
       "</table>\n",
       "</td>\n",
       "<td>\n",
       "<svg width=\"289\" height=\"194\" style=\"stroke:rgb(0,0,0);stroke-width:1\" >\n",
       "\n",
       "  <!-- Horizontal lines -->\n",
       "  <line x1=\"0\" y1=\"0\" x2=\"25\" y2=\"0\" style=\"stroke-width:2\" />\n",
       "  <line x1=\"0\" y1=\"25\" x2=\"25\" y2=\"25\" style=\"stroke-width:2\" />\n",
       "\n",
       "  <!-- Vertical lines -->\n",
       "  <line x1=\"0\" y1=\"0\" x2=\"0\" y2=\"25\" style=\"stroke-width:2\" />\n",
       "  <line x1=\"0\" y1=\"0\" x2=\"0\" y2=\"25\" />\n",
       "  <line x1=\"1\" y1=\"0\" x2=\"1\" y2=\"25\" />\n",
       "  <line x1=\"2\" y1=\"0\" x2=\"2\" y2=\"25\" />\n",
       "  <line x1=\"3\" y1=\"0\" x2=\"3\" y2=\"25\" />\n",
       "  <line x1=\"4\" y1=\"0\" x2=\"4\" y2=\"25\" />\n",
       "  <line x1=\"4\" y1=\"0\" x2=\"4\" y2=\"25\" />\n",
       "  <line x1=\"5\" y1=\"0\" x2=\"5\" y2=\"25\" />\n",
       "  <line x1=\"6\" y1=\"0\" x2=\"6\" y2=\"25\" />\n",
       "  <line x1=\"7\" y1=\"0\" x2=\"7\" y2=\"25\" />\n",
       "  <line x1=\"8\" y1=\"0\" x2=\"8\" y2=\"25\" />\n",
       "  <line x1=\"9\" y1=\"0\" x2=\"9\" y2=\"25\" />\n",
       "  <line x1=\"9\" y1=\"0\" x2=\"9\" y2=\"25\" />\n",
       "  <line x1=\"10\" y1=\"0\" x2=\"10\" y2=\"25\" />\n",
       "  <line x1=\"11\" y1=\"0\" x2=\"11\" y2=\"25\" />\n",
       "  <line x1=\"12\" y1=\"0\" x2=\"12\" y2=\"25\" />\n",
       "  <line x1=\"13\" y1=\"0\" x2=\"13\" y2=\"25\" />\n",
       "  <line x1=\"13\" y1=\"0\" x2=\"13\" y2=\"25\" />\n",
       "  <line x1=\"14\" y1=\"0\" x2=\"14\" y2=\"25\" />\n",
       "  <line x1=\"15\" y1=\"0\" x2=\"15\" y2=\"25\" />\n",
       "  <line x1=\"16\" y1=\"0\" x2=\"16\" y2=\"25\" />\n",
       "  <line x1=\"17\" y1=\"0\" x2=\"17\" y2=\"25\" />\n",
       "  <line x1=\"18\" y1=\"0\" x2=\"18\" y2=\"25\" />\n",
       "  <line x1=\"18\" y1=\"0\" x2=\"18\" y2=\"25\" />\n",
       "  <line x1=\"19\" y1=\"0\" x2=\"19\" y2=\"25\" />\n",
       "  <line x1=\"20\" y1=\"0\" x2=\"20\" y2=\"25\" />\n",
       "  <line x1=\"21\" y1=\"0\" x2=\"21\" y2=\"25\" />\n",
       "  <line x1=\"22\" y1=\"0\" x2=\"22\" y2=\"25\" />\n",
       "  <line x1=\"22\" y1=\"0\" x2=\"22\" y2=\"25\" />\n",
       "  <line x1=\"23\" y1=\"0\" x2=\"23\" y2=\"25\" />\n",
       "  <line x1=\"24\" y1=\"0\" x2=\"24\" y2=\"25\" />\n",
       "  <line x1=\"25\" y1=\"0\" x2=\"25\" y2=\"25\" style=\"stroke-width:2\" />\n",
       "\n",
       "  <!-- Colored Rectangle -->\n",
       "  <polygon points=\"0.0,0.0 25.412616514582485,0.0 25.412616514582485,25.412616514582485 0.0,25.412616514582485\" style=\"fill:#ECB172A0;stroke-width:0\"/>\n",
       "\n",
       "  <!-- Text -->\n",
       "  <text x=\"12.706308\" y=\"45.412617\" font-size=\"1.0rem\" font-weight=\"100\" text-anchor=\"middle\" >31</text>\n",
       "  <text x=\"45.412617\" y=\"12.706308\" font-size=\"1.0rem\" font-weight=\"100\" text-anchor=\"middle\" transform=\"rotate(0,45.412617,12.706308)\">1</text>\n",
       "\n",
       "\n",
       "  <!-- Horizontal lines -->\n",
       "  <line x1=\"95\" y1=\"0\" x2=\"119\" y2=\"24\" style=\"stroke-width:2\" />\n",
       "  <line x1=\"95\" y1=\"13\" x2=\"119\" y2=\"37\" />\n",
       "  <line x1=\"95\" y1=\"26\" x2=\"119\" y2=\"50\" />\n",
       "  <line x1=\"95\" y1=\"40\" x2=\"119\" y2=\"64\" />\n",
       "  <line x1=\"95\" y1=\"53\" x2=\"119\" y2=\"77\" />\n",
       "  <line x1=\"95\" y1=\"66\" x2=\"119\" y2=\"90\" />\n",
       "  <line x1=\"95\" y1=\"80\" x2=\"119\" y2=\"104\" />\n",
       "  <line x1=\"95\" y1=\"93\" x2=\"119\" y2=\"117\" />\n",
       "  <line x1=\"95\" y1=\"106\" x2=\"119\" y2=\"130\" />\n",
       "  <line x1=\"95\" y1=\"120\" x2=\"119\" y2=\"144\" style=\"stroke-width:2\" />\n",
       "\n",
       "  <!-- Vertical lines -->\n",
       "  <line x1=\"95\" y1=\"0\" x2=\"95\" y2=\"120\" style=\"stroke-width:2\" />\n",
       "  <line x1=\"96\" y1=\"1\" x2=\"96\" y2=\"121\" />\n",
       "  <line x1=\"108\" y1=\"13\" x2=\"108\" y2=\"133\" />\n",
       "  <line x1=\"119\" y1=\"24\" x2=\"119\" y2=\"144\" style=\"stroke-width:2\" />\n",
       "\n",
       "  <!-- Colored Rectangle -->\n",
       "  <polygon points=\"95.0,0.0 119.2822368891748,24.282236889174794 119.2822368891748,144.28223688917478 95.0,120.0\" style=\"fill:#ECB172A0;stroke-width:0\"/>\n",
       "\n",
       "  <!-- Horizontal lines -->\n",
       "  <line x1=\"95\" y1=\"0\" x2=\"120\" y2=\"0\" style=\"stroke-width:2\" />\n",
       "  <line x1=\"96\" y1=\"1\" x2=\"121\" y2=\"1\" />\n",
       "  <line x1=\"108\" y1=\"13\" x2=\"133\" y2=\"13\" />\n",
       "  <line x1=\"119\" y1=\"24\" x2=\"144\" y2=\"24\" style=\"stroke-width:2\" />\n",
       "\n",
       "  <!-- Vertical lines -->\n",
       "  <line x1=\"95\" y1=\"0\" x2=\"119\" y2=\"24\" style=\"stroke-width:2\" />\n",
       "  <line x1=\"120\" y1=\"0\" x2=\"144\" y2=\"24\" style=\"stroke-width:2\" />\n",
       "\n",
       "  <!-- Colored Rectangle -->\n",
       "  <polygon points=\"95.0,0.0 120.41261651458248,0.0 144.69485340375726,24.282236889174794 119.2822368891748,24.282236889174794\" style=\"fill:#ECB172A0;stroke-width:0\"/>\n",
       "\n",
       "  <!-- Horizontal lines -->\n",
       "  <line x1=\"119\" y1=\"24\" x2=\"144\" y2=\"24\" style=\"stroke-width:2\" />\n",
       "  <line x1=\"119\" y1=\"37\" x2=\"144\" y2=\"37\" />\n",
       "  <line x1=\"119\" y1=\"50\" x2=\"144\" y2=\"50\" />\n",
       "  <line x1=\"119\" y1=\"64\" x2=\"144\" y2=\"64\" />\n",
       "  <line x1=\"119\" y1=\"77\" x2=\"144\" y2=\"77\" />\n",
       "  <line x1=\"119\" y1=\"90\" x2=\"144\" y2=\"90\" />\n",
       "  <line x1=\"119\" y1=\"104\" x2=\"144\" y2=\"104\" />\n",
       "  <line x1=\"119\" y1=\"117\" x2=\"144\" y2=\"117\" />\n",
       "  <line x1=\"119\" y1=\"130\" x2=\"144\" y2=\"130\" />\n",
       "  <line x1=\"119\" y1=\"144\" x2=\"144\" y2=\"144\" style=\"stroke-width:2\" />\n",
       "\n",
       "  <!-- Vertical lines -->\n",
       "  <line x1=\"119\" y1=\"24\" x2=\"119\" y2=\"144\" style=\"stroke-width:2\" />\n",
       "  <line x1=\"144\" y1=\"24\" x2=\"144\" y2=\"144\" style=\"stroke-width:2\" />\n",
       "\n",
       "  <!-- Colored Rectangle -->\n",
       "  <polygon points=\"119.2822368891748,24.282236889174794 144.6948534037573,24.282236889174794 144.6948534037573,144.28223688917478 119.2822368891748,144.28223688917478\" style=\"fill:#ECB172A0;stroke-width:0\"/>\n",
       "\n",
       "  <!-- Text -->\n",
       "  <text x=\"131.988545\" y=\"164.282237\" font-size=\"1.0rem\" font-weight=\"100\" text-anchor=\"middle\" >31</text>\n",
       "  <text x=\"164.694853\" y=\"84.282237\" font-size=\"1.0rem\" font-weight=\"100\" text-anchor=\"middle\" transform=\"rotate(-90,164.694853,84.282237)\">3600</text>\n",
       "  <text x=\"97.141118\" y=\"152.141118\" font-size=\"1.0rem\" font-weight=\"100\" text-anchor=\"middle\" transform=\"rotate(45,97.141118,152.141118)\">610</text>\n",
       "</svg>\n",
       "</td>\n",
       "</tr>\n",
       "</table></div></div></li><li class='xr-section-item'><input id='section-f56134bf-3c3c-4c72-ab8a-71b12d422c93' class='xr-section-summary-in' type='checkbox'  checked><label for='section-f56134bf-3c3c-4c72-ab8a-71b12d422c93' class='xr-section-summary' >Coordinates: <span>(4)</span></label><div class='xr-section-inline-details'></div><div class='xr-section-details'><ul class='xr-var-list'><li class='xr-var-item'><div class='xr-var-name'><span class='xr-has-index'>yt_ocean</span></div><div class='xr-var-dims'>(yt_ocean)</div><div class='xr-var-dtype'>float64</div><div class='xr-var-preview xr-preview'>-70.04 -70.0 ... -35.04 -34.96</div><input id='attrs-705fa616-4080-48ea-b67e-75a5a83357c3' class='xr-var-attrs-in' type='checkbox' disabled><label for='attrs-705fa616-4080-48ea-b67e-75a5a83357c3' title='Show/Hide attributes'><svg class='icon xr-icon-file-text2'><use xlink:href='#icon-file-text2'></use></svg></label><input id='data-c9d4481f-dc6e-4e71-9181-73583f87ffee' class='xr-var-data-in' type='checkbox'><label for='data-c9d4481f-dc6e-4e71-9181-73583f87ffee' title='Show/Hide data repr'><svg class='icon xr-icon-database'><use xlink:href='#icon-database'></use></svg></label><div class='xr-var-attrs'><dl class='xr-attrs'></dl></div><div class='xr-var-data'><pre>array([-70.041921, -69.999681, -69.957442, ..., -35.118882, -35.037045,\n",
       "       -34.955126])</pre></div></li><li class='xr-var-item'><div class='xr-var-name'><span class='xr-has-index'>xt_ocean</span></div><div class='xr-var-dims'>(xt_ocean)</div><div class='xr-var-dtype'>float64</div><div class='xr-var-preview xr-preview'>-279.9 -279.8 ... 79.85 79.95</div><input id='attrs-b8ca3f1c-8ff3-433e-bfad-c46e80083a68' class='xr-var-attrs-in' type='checkbox' disabled><label for='attrs-b8ca3f1c-8ff3-433e-bfad-c46e80083a68' title='Show/Hide attributes'><svg class='icon xr-icon-file-text2'><use xlink:href='#icon-file-text2'></use></svg></label><input id='data-40c8227b-fd5e-4aac-93d5-c560e7c5b201' class='xr-var-data-in' type='checkbox'><label for='data-40c8227b-fd5e-4aac-93d5-c560e7c5b201' title='Show/Hide data repr'><svg class='icon xr-icon-database'><use xlink:href='#icon-database'></use></svg></label><div class='xr-var-attrs'><dl class='xr-attrs'></dl></div><div class='xr-var-data'><pre>array([-279.95, -279.85, -279.75, ...,   79.75,   79.85,   79.95])</pre></div></li><li class='xr-var-item'><div class='xr-var-name'><span class='xr-has-index'>time</span></div><div class='xr-var-dims'>(time)</div><div class='xr-var-dtype'>object</div><div class='xr-var-preview xr-preview'>2170-01-01 12:00:00 ... 2170-01-...</div><input id='attrs-fb28bcdb-5e77-44f2-82ed-55a8d5d23618' class='xr-var-attrs-in' type='checkbox' disabled><label for='attrs-fb28bcdb-5e77-44f2-82ed-55a8d5d23618' title='Show/Hide attributes'><svg class='icon xr-icon-file-text2'><use xlink:href='#icon-file-text2'></use></svg></label><input id='data-a1b5c686-7e8f-4ad9-ad9e-d53b70293175' class='xr-var-data-in' type='checkbox'><label for='data-a1b5c686-7e8f-4ad9-ad9e-d53b70293175' title='Show/Hide data repr'><svg class='icon xr-icon-database'><use xlink:href='#icon-database'></use></svg></label><div class='xr-var-attrs'><dl class='xr-attrs'></dl></div><div class='xr-var-data'><pre>array([cftime.DatetimeNoLeap(2170, 1, 1, 12, 0, 0, 0),\n",
       "       cftime.DatetimeNoLeap(2170, 1, 2, 12, 0, 0, 0),\n",
       "       cftime.DatetimeNoLeap(2170, 1, 3, 12, 0, 0, 0),\n",
       "       cftime.DatetimeNoLeap(2170, 1, 4, 12, 0, 0, 0),\n",
       "       cftime.DatetimeNoLeap(2170, 1, 5, 12, 0, 0, 0),\n",
       "       cftime.DatetimeNoLeap(2170, 1, 6, 12, 0, 0, 0),\n",
       "       cftime.DatetimeNoLeap(2170, 1, 7, 12, 0, 0, 0),\n",
       "       cftime.DatetimeNoLeap(2170, 1, 8, 12, 0, 0, 0),\n",
       "       cftime.DatetimeNoLeap(2170, 1, 9, 12, 0, 0, 0),\n",
       "       cftime.DatetimeNoLeap(2170, 1, 10, 12, 0, 0, 0),\n",
       "       cftime.DatetimeNoLeap(2170, 1, 11, 12, 0, 0, 0),\n",
       "       cftime.DatetimeNoLeap(2170, 1, 12, 12, 0, 0, 0),\n",
       "       cftime.DatetimeNoLeap(2170, 1, 13, 12, 0, 0, 0),\n",
       "       cftime.DatetimeNoLeap(2170, 1, 14, 12, 0, 0, 0),\n",
       "       cftime.DatetimeNoLeap(2170, 1, 15, 12, 0, 0, 0),\n",
       "       cftime.DatetimeNoLeap(2170, 1, 16, 12, 0, 0, 0),\n",
       "       cftime.DatetimeNoLeap(2170, 1, 17, 12, 0, 0, 0),\n",
       "       cftime.DatetimeNoLeap(2170, 1, 18, 12, 0, 0, 0),\n",
       "       cftime.DatetimeNoLeap(2170, 1, 19, 12, 0, 0, 0),\n",
       "       cftime.DatetimeNoLeap(2170, 1, 20, 12, 0, 0, 0),\n",
       "       cftime.DatetimeNoLeap(2170, 1, 21, 12, 0, 0, 0),\n",
       "       cftime.DatetimeNoLeap(2170, 1, 22, 12, 0, 0, 0),\n",
       "       cftime.DatetimeNoLeap(2170, 1, 23, 12, 0, 0, 0),\n",
       "       cftime.DatetimeNoLeap(2170, 1, 24, 12, 0, 0, 0),\n",
       "       cftime.DatetimeNoLeap(2170, 1, 25, 12, 0, 0, 0),\n",
       "       cftime.DatetimeNoLeap(2170, 1, 26, 12, 0, 0, 0),\n",
       "       cftime.DatetimeNoLeap(2170, 1, 27, 12, 0, 0, 0),\n",
       "       cftime.DatetimeNoLeap(2170, 1, 28, 12, 0, 0, 0),\n",
       "       cftime.DatetimeNoLeap(2170, 1, 29, 12, 0, 0, 0),\n",
       "       cftime.DatetimeNoLeap(2170, 1, 30, 12, 0, 0, 0),\n",
       "       cftime.DatetimeNoLeap(2170, 1, 31, 12, 0, 0, 0)], dtype=object)</pre></div></li><li class='xr-var-item'><div class='xr-var-name'><span class='xr-has-index'>pot_rho_1_outer</span></div><div class='xr-var-dims'>(pot_rho_1_outer)</div><div class='xr-var-dtype'>float64</div><div class='xr-var-preview xr-preview'>1.014e+03 1.028e+03 ... 1.042e+03</div><input id='attrs-2698e53f-0bb5-4146-aed3-4f6cda6c6d10' class='xr-var-attrs-in' type='checkbox' disabled><label for='attrs-2698e53f-0bb5-4146-aed3-4f6cda6c6d10' title='Show/Hide attributes'><svg class='icon xr-icon-file-text2'><use xlink:href='#icon-file-text2'></use></svg></label><input id='data-0bc0ae69-c66c-4d75-bac9-fed9226d65f4' class='xr-var-data-in' type='checkbox'><label for='data-0bc0ae69-c66c-4d75-bac9-fed9226d65f4' title='Show/Hide data repr'><svg class='icon xr-icon-database'><use xlink:href='#icon-database'></use></svg></label><div class='xr-var-attrs'><dl class='xr-attrs'></dl></div><div class='xr-var-data'><pre>array([1013.75  , 1028.    , 1029.    , 1030.    , 1030.875 , 1031.475 ,\n",
       "       1031.825 , 1032.    , 1032.1   , 1032.1875, 1032.25  , 1032.3   ,\n",
       "       1032.3575, 1032.4   , 1032.42  , 1032.44  , 1032.46  , 1032.48  ,\n",
       "       1032.4975, 1032.51  , 1032.52  , 1032.53  , 1032.54  , 1032.55  ,\n",
       "       1032.5625, 1032.58  , 1032.645 , 1032.8   , 1033.2   , 1036.5   ,\n",
       "       1042.5   ])</pre></div></li></ul></div></li><li class='xr-section-item'><input id='section-f8aec8e8-f683-4a22-ae1a-50ac26406b72' class='xr-section-summary-in' type='checkbox' disabled ><label for='section-f8aec8e8-f683-4a22-ae1a-50ac26406b72' class='xr-section-summary'  title='Expand/collapse section'>Attributes: <span>(0)</span></label><div class='xr-section-inline-details'></div><div class='xr-section-details'><dl class='xr-attrs'></dl></div></li></ul></div></div>"
      ],
      "text/plain": [
       "<xarray.DataArray 'dzt' (time: 31, yt_ocean: 610, xt_ocean: 3600, pot_rho_1_outer: 31)>\n",
       "dask.array<transpose, shape=(31, 610, 3600, 31), dtype=float32, chunksize=(1, 300, 400, 31), chunktype=numpy.ndarray>\n",
       "Coordinates:\n",
       "  * yt_ocean         (yt_ocean) float64 -70.04 -70.0 -69.96 ... -35.04 -34.96\n",
       "  * xt_ocean         (xt_ocean) float64 -279.9 -279.8 -279.7 ... 79.85 79.95\n",
       "  * time             (time) object 2170-01-01 12:00:00 ... 2170-01-31 12:00:00\n",
       "  * pot_rho_1_outer  (pot_rho_1_outer) float64 1.014e+03 1.028e+03 ... 1.042e+03"
      ]
     },
     "execution_count": 102,
     "metadata": {},
     "output_type": "execute_result"
    }
   ],
   "source": [
    "dzu_transformed_cons"
   ]
  },
  {
   "cell_type": "code",
   "execution_count": 91,
   "metadata": {},
   "outputs": [],
   "source": [
    "### change name to fit previous bins\n",
    "dzu_transformed_cons = dzu_transformed_cons.rename({'pot_rho_1_outer':'isopycnal_bins'})\n",
    "dzu_transformed_cons = dzu_transformed_cons.chunk({'time':5})\n",
    "h_new = dzu_transformed_cons"
   ]
  },
  {
   "cell_type": "markdown",
   "metadata": {},
   "source": [
    "#### Load previously binned (old method) binned dzt, and ht and eta_t from cosima cookbook"
   ]
  },
  {
   "cell_type": "code",
   "execution_count": 74,
   "metadata": {},
   "outputs": [],
   "source": [
    "h_old = xr.open_dataset('/g/data/x77/cy8964/Post_Process/New_SO/SO_saving_energy_terms_h_binned_2170-01_dzt.nc').h_binned\n",
    "#h_new = xr.open_dataset('/g/data/x77/cy8964/Post_Process/New_SO/SO_saving_energy_terms_h_binned_2170-01_xgcm.nc').h_binned\n",
    "\n"
   ]
  },
  {
   "cell_type": "code",
   "execution_count": 79,
   "metadata": {},
   "outputs": [],
   "source": [
    "ht= cc.querying.getvar(expt,'ht',session,n=1)\n",
    "ht = ht.sel(yt_ocean = lat_range)\n",
    "eta_t = cc.querying.getvar(expt,'eta_t',session,ncfile='%daily%',start_time=start_time, end_time=end_time)\n",
    "eta_t = eta_t.sel(yt_ocean=lat_range, time=time_slice)#slice(start_time,end_time))"
   ]
  },
  {
   "cell_type": "code",
   "execution_count": 98,
   "metadata": {},
   "outputs": [
    {
     "data": {
      "text/plain": [
       "Text(0.5, 1.0, 'comparing the ocean depth at one longitude')"
      ]
     },
     "execution_count": 98,
     "metadata": {},
     "output_type": "execute_result"
    },
    {
     "data": {
      "image/png": "[encoded data removed]",
      "text/plain": [
       "<Figure size 640x480 with 1 Axes>"
      ]
     },
     "metadata": {},
     "output_type": "display_data"
    }
   ],
   "source": [
    "(ht.isel(xt_ocean=5)+eta_t.isel(xt_ocean = 5, time =10)).plot(linewidth = 3, label = 'ht+eta_t from cosima cookbook')\n",
    "h_old.isel(xt_ocean = 5, time =10).sum('isopycnal_bins').plot(label = 'Old method summed dzt')\n",
    "h_new.isel(xt_ocean = 5,time=10).sum('isopycnal_bins').plot(label = 'New xgcm summed dzt')\n",
    "plt.hlines(st_edges_ocean.values, -70,-35, color = 'k', linewidth=0.5, label = 'st_edges_ocean')\n",
    "plt.legend()\n",
    "plt.title('comparing the ocean depth at one longitude')"
   ]
  },
  {
   "cell_type": "markdown",
   "metadata": {},
   "source": [
    "# old method dzt is pretty much exact (see blue line behind orange line), new method is off regardless of choice of bins.\n",
    "\n",
    "It is off because of partial cells - you can see how the green plateaus at the st_edges_ocean values. The xgcm method requires inputting st_edges_ocean (a 1D array) BUT if you account for partial cells (the array calculated from st_edges and ht) then it really has x and y variability too depending on topography. Sooooo I don't know how to fix it."
   ]
  },
  {
   "cell_type": "code",
   "execution_count": null,
   "metadata": {},
   "outputs": [],
   "source": []
  }
 ],
 "metadata": {
  "kernelspec": {
   "display_name": "Python [conda env:analysis3-21.04]",
   "language": "python",
   "name": "conda-env-analysis3-21.04-py"
  },
  "language_info": {
   "codemirror_mode": {
    "name": "ipython",
    "version": 3
   },
   "file_extension": ".py",
   "mimetype": "text/x-python",
   "name": "python",
   "nbconvert_exporter": "python",
   "pygments_lexer": "ipython3",
   "version": "3.8.10"
  }
 },
 "nbformat": 4,
 "nbformat_minor": 4
}
