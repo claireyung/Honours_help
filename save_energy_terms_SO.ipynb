{
 "cells": [
  {
   "cell_type": "markdown",
   "metadata": {},
   "source": [
    "## Code to save output of vh, uh and h along isopycnals for Southern Ocean\n",
    "\n",
    "The theoretical framework for my project relies on data in density coordinates, rather than the depth coordinates that ACCESS-OM2 provides. In order to perform my analyses, I must bin these values into fixed density bins, and I do this via a binning process which saves the model output vh_rho_nt and uh_rho_nt and an interpolated version of dzu into each of these bins, across the Southern Ocean. I need to do this for 10 years, but currently run scripts in gadi for each month. Unfortunately their CPU usage is low - usually around 5% of 24 cores, while I need at least 80GB of memory. I am hence looking for assistance to parallelise the code so that the binning process is more resource efficient.\n",
    "\n",
    "The binning process itself comes from https://journals.ametsoc.org/view/journals/phoc/37/5/jpo3057.1.xml\n",
    "\n",
    "It involves choosing isopycnal bins on which to bin it, and then looping through the bins, assigning which two bin the model output is closest to in density and splitting the density between those two bins accordingly.\n",
    "\n",
    "I have found binning a month of full Southern Ocean (35 to 70S) takes 2 hours, and I need to be able to do this for 10 years."
   ]
  },
  {
   "cell_type": "code",
   "execution_count": 1,
   "metadata": {},
   "outputs": [],
   "source": [
    "%matplotlib inline\n",
    "\n",
    "import cosima_cookbook as cc\n",
    "from cosima_cookbook import distributed as ccd\n",
    "import matplotlib.pyplot as plt\n",
    "import numpy as np\n",
    "import netCDF4 as nc\n",
    "import xarray as xr\n",
    "import glob\n",
    "import cmocean.cm as cmocean\n",
    "#from gsw import SA_from_SP, p_from_z, sigma1\n",
    "\n",
    "import logging\n",
    "logging.captureWarnings(True)\n",
    "logging.getLogger('py.warnings').setLevel(logging.ERROR)\n",
    "\n",
    "from dask.distributed import Client"
   ]
  },
  {
   "cell_type": "markdown",
   "metadata": {},
   "source": [
    "Set up some parameters and open cluster."
   ]
  },
  {
   "cell_type": "code",
   "execution_count": 2,
   "metadata": {},
   "outputs": [
    {
     "data": {
      "text/html": [
       "<table style=\"border: 2px solid white;\">\n",
       "<tr>\n",
       "<td style=\"vertical-align: top; border: 0px solid white\">\n",
       "<h3 style=\"text-align: left;\">Client</h3>\n",
       "<ul style=\"text-align: left; list-style: none; margin: 0; padding: 0;\">\n",
       "  <li><b>Scheduler: </b>tcp://127.0.0.1:38137</li>\n",
       "  <li><b>Dashboard: </b><a href='/proxy/8787/status' target='_blank'>/proxy/8787/status</a></li>\n",
       "</ul>\n",
       "</td>\n",
       "<td style=\"vertical-align: top; border: 0px solid white\">\n",
       "<h3 style=\"text-align: left;\">Cluster</h3>\n",
       "<ul style=\"text-align: left; list-style:none; margin: 0; padding: 0;\">\n",
       "  <li><b>Workers: </b>6</li>\n",
       "  <li><b>Cores: </b>24</li>\n",
       "  <li><b>Memory: </b>96.00 GiB</li>\n",
       "</ul>\n",
       "</td>\n",
       "</tr>\n",
       "</table>"
      ],
      "text/plain": [
       "<Client: 'tcp://127.0.0.1:38137' processes=6 threads=24, memory=96.00 GiB>"
      ]
     },
     "execution_count": 2,
     "metadata": {},
     "output_type": "execute_result"
    }
   ],
   "source": [
    "client = Client()\n",
    "client"
   ]
  },
  {
   "cell_type": "code",
   "execution_count": 3,
   "metadata": {},
   "outputs": [],
   "source": [
    "session = cc.database.create_session('/g/data/ik11/databases/cosima_master.db')"
   ]
  },
  {
   "cell_type": "code",
   "execution_count": null,
   "metadata": {},
   "outputs": [],
   "source": [
    "# #### get run count argument that was passed to python script #### (for PBS script)\n",
    "# import sys\n",
    "# run_count = int(sys.argv[1])\n"
   ]
  },
  {
   "cell_type": "code",
   "execution_count": 4,
   "metadata": {},
   "outputs": [],
   "source": [
    "run_count = 3"
   ]
  },
  {
   "cell_type": "code",
   "execution_count": 5,
   "metadata": {},
   "outputs": [
    {
     "data": {
      "text/plain": [
       "'03'"
      ]
     },
     "execution_count": 5,
     "metadata": {},
     "output_type": "execute_result"
    }
   ],
   "source": [
    "if run_count<10:\n",
    "    month = '0'+str(run_count)\n",
    "elif run_count ==10:\n",
    "    month = '10'\n",
    "elif run_count ==11:\n",
    "    month = '11'\n",
    "elif run_count ==12:\n",
    "    month = '12'\n",
    "month"
   ]
  },
  {
   "cell_type": "code",
   "execution_count": 6,
   "metadata": {},
   "outputs": [],
   "source": [
    "year = '2170'\n",
    "expt = '01deg_jra55v13_ryf9091'\n",
    "\n",
    "time_slice= year + '-' + month\n",
    "start_time = year + '-01-01'\n",
    "end_time= year + '-12-31'\n",
    "\n",
    "# reference density value:\n",
    "rho_0 = 1035.0\n",
    "## FULL SO latitude range##\n",
    "lat_range = slice(-70,-34.99)\n",
    "lat_range_big =  slice(-70.05,-34.90)\n",
    "\n"
   ]
  },
  {
   "cell_type": "code",
   "execution_count": 7,
   "metadata": {},
   "outputs": [
    {
     "name": "stdout",
     "output_type": "stream",
     "text": [
      "CPU times: user 1.95 s, sys: 441 ms, total: 2.39 s\n",
      "Wall time: 16.1 s\n"
     ]
    }
   ],
   "source": [
    "%%time\n",
    "\n",
    "yt_ocean = cc.querying.getvar(expt,'yt_ocean',session,n=1)\n",
    "yt_ocean = yt_ocean.sel(yt_ocean=lat_range)\n",
    "xt_ocean = cc.querying.getvar(expt,'xt_ocean',session,n=1)\n"
   ]
  },
  {
   "cell_type": "markdown",
   "metadata": {},
   "source": [
    "### Load quantities\n"
   ]
  },
  {
   "cell_type": "markdown",
   "metadata": {},
   "source": [
    "Load daily vhrho, uhrho, dzt and density for the year chosen and select latitude/longitude region."
   ]
  },
  {
   "cell_type": "code",
   "execution_count": 8,
   "metadata": {},
   "outputs": [
    {
     "name": "stdout",
     "output_type": "stream",
     "text": [
      "CPU times: user 4.42 s, sys: 448 ms, total: 4.87 s\n",
      "Wall time: 10.7 s\n"
     ]
    }
   ],
   "source": [
    "%%time\n",
    "\n",
    "# Note vhrho_nt is v*dz*1035 and is positioned on north centre edge of t-cell.\n",
    "vhrho = cc.querying.getvar(expt,'vhrho_nt',session,start_time=start_time, end_time=end_time)\n",
    "uhrho = cc.querying.getvar(expt,'uhrho_et',session,start_time=start_time, end_time=end_time)\n",
    "\n",
    "# select latitude range and this month:\n",
    "vhrho = vhrho.sel(yt_ocean=lat_range_big).sel(time=time_slice)\n",
    "uhrho = uhrho.sel(yt_ocean=lat_range).sel(time=time_slice)\n"
   ]
  },
  {
   "cell_type": "markdown",
   "metadata": {},
   "source": [
    "Since vh_rho at northern edge of cell and uhrho at eastern edge, need to interpolate to tracer grid centre so that correct binning occurs, as density is in centre of t cell. Hence, interpolate uhrho in x direction and interpolate vhrho in y direction. uhrho is easy because it is periodic bouncaries. For vhrho, just include a latitude coordinate above and below and remove later."
   ]
  },
  {
   "cell_type": "markdown",
   "metadata": {},
   "source": [
    "### Load density and dzt"
   ]
  },
  {
   "cell_type": "code",
   "execution_count": 9,
   "metadata": {},
   "outputs": [
    {
     "name": "stdout",
     "output_type": "stream",
     "text": [
      "CPU times: user 1.26 s, sys: 162 ms, total: 1.42 s\n",
      "Wall time: 1.86 s\n"
     ]
    }
   ],
   "source": [
    "%%time\n",
    "\n",
    "pot_rho_1 = cc.querying.getvar(expt,'pot_rho_1',session,start_time=start_time, end_time=end_time,ncfile='%daily%')\n",
    "pot_rho_1 = pot_rho_1.sel(yt_ocean=lat_range).sel(time=time_slice)\n",
    "time = pot_rho_1.time\n"
   ]
  },
  {
   "cell_type": "code",
   "execution_count": 10,
   "metadata": {},
   "outputs": [
    {
     "name": "stdout",
     "output_type": "stream",
     "text": [
      "CPU times: user 2.32 s, sys: 167 ms, total: 2.49 s\n",
      "Wall time: 3.07 s\n"
     ]
    }
   ],
   "source": [
    "%%time\n",
    "\n",
    "dzt = cc.querying.getvar(expt,'dzt',session,start_time=start_time, end_time=end_time,ncfile='%daily%')\n",
    "dzt = dzt.sel(yt_ocean=lat_range_big).sel(time=time_slice)"
   ]
  },
  {
   "cell_type": "markdown",
   "metadata": {},
   "source": [
    "### Define density bins that I want the output to be binned into, and set up some zero arrays"
   ]
  },
  {
   "cell_type": "code",
   "execution_count": 11,
   "metadata": {},
   "outputs": [],
   "source": [
    "## define isopycnal bins   - new as of 23 July\n",
    "isopycnal_bins_sigma1 = 1000+ np.array([1,28,29,30,31,31.5,31.9,32,32.1,32.2,32.25,\n",
    "                                        32.3,32.35,32.4,32.42,32.44,32.46,32.48,32.50,32.51,\n",
    "                                        32.52,32.53,32.54,32.55,32.56,32.58,32.6,32.8,33,34,45])"
   ]
  },
  {
   "cell_type": "code",
   "execution_count": 12,
   "metadata": {},
   "outputs": [],
   "source": [
    "## intialise empty transport along contour in density bins array\n",
    "vh_binned = xr.DataArray(np.zeros((len(time),len(isopycnal_bins_sigma1),len(yt_ocean),len(xt_ocean))), \n",
    "                                               coords = [time,isopycnal_bins_sigma1, yt_ocean, xt_ocean], \n",
    "                                               dims = ['time','isopycnal_bins', 'yt_ocean','xt_ocean'], \n",
    "                                               name = 'vh_binned')\n",
    "uh_binned = xr.DataArray(np.zeros((len(time),len(isopycnal_bins_sigma1),len(yt_ocean),len(xt_ocean))), \n",
    "                                               coords = [time,isopycnal_bins_sigma1, yt_ocean, xt_ocean], \n",
    "                                               dims = ['time','isopycnal_bins', 'yt_ocean','xt_ocean'], \n",
    "                                               name = 'uh_binned')\n",
    "h_binned = xr.DataArray(np.zeros((len(time),len(isopycnal_bins_sigma1),len(yt_ocean),len(xt_ocean))), \n",
    "                                               coords = [time,isopycnal_bins_sigma1, yt_ocean, xt_ocean], \n",
    "                                               dims = ['time','isopycnal_bins', 'yt_ocean','xt_ocean'], \n",
    "                                               name = 'h_binned')\n"
   ]
  },
  {
   "cell_type": "markdown",
   "metadata": {},
   "source": [
    "### loop over days to load daily data then bin using bin_mask into nearest isopycnal, weighted by which isopycnal the cell is closest to.\n",
    "\n",
    "Note: if time is not looped over, then nothing happens - it just stalls.\n",
    "\n",
    "And I'm not sure how to do the binning process without a loop. The two loops, and assigning values to arrays via [day, i+1,:,:], are I think what is slowing it down and removing xarray/dask functionality."
   ]
  },
  {
   "cell_type": "code",
   "execution_count": null,
   "metadata": {},
   "outputs": [
    {
     "name": "stdout",
     "output_type": "stream",
     "text": [
      "day 0\n",
      "succesfully loaded! now binning\n",
      "0\n",
      "1\n",
      "2\n",
      "3\n",
      "4\n",
      "5\n",
      "6\n",
      "7\n",
      "8\n",
      "9\n",
      "10\n",
      "11\n",
      "12\n",
      "13\n",
      "14\n",
      "15\n",
      "16\n",
      "17\n",
      "18\n",
      "19\n",
      "20\n",
      "21\n",
      "22\n",
      "23\n",
      "24\n",
      "25\n",
      "26\n",
      "27\n",
      "28\n",
      "29\n",
      "day 1\n",
      "succesfully loaded! now binning\n",
      "0\n",
      "1\n",
      "2\n",
      "3\n",
      "4\n",
      "5\n",
      "6\n",
      "7\n",
      "8\n",
      "9\n",
      "10\n",
      "11\n",
      "12\n",
      "13\n",
      "14\n",
      "15\n",
      "16\n",
      "17\n",
      "18\n",
      "19\n",
      "20\n",
      "21\n",
      "22\n",
      "23\n",
      "24\n",
      "25\n",
      "26\n",
      "27\n",
      "28\n",
      "29\n",
      "day 2\n",
      "succesfully loaded! now binning\n",
      "0\n",
      "1\n",
      "2\n",
      "3\n",
      "4\n",
      "5\n",
      "6\n",
      "7\n",
      "8\n",
      "9\n",
      "10\n",
      "11\n",
      "12\n",
      "13\n",
      "14\n",
      "15\n",
      "16\n",
      "17\n",
      "18\n",
      "19\n",
      "20\n",
      "21\n",
      "22\n",
      "23\n",
      "24\n",
      "25\n",
      "26\n",
      "27\n",
      "28\n"
     ]
    }
   ],
   "source": [
    "%%time\n",
    "for day in range(3): #should be range(len(time)) but this is for time test (submit as a PBS script to gadi)\n",
    "    print('day '+str(day))\n",
    "    uhrho_j = uhrho[day,...]\n",
    "    uhrho_j = uhrho_j.fillna(0)\n",
    "    uhrho_j = uhrho_j.load()\n",
    "    vhrho_j = vhrho[day,...]\n",
    "    vhrho_j = vhrho_j.fillna(0)\n",
    "    vhrho_j = vhrho_j.load()\n",
    "    \n",
    "    #move uhrho and vhrho to t grid since uhrho is eastern side of cell and vhrho on northern\n",
    "    uhrho_t = 0.5*(uhrho_j+uhrho_j.roll(xt_ocean=1, roll_coords = False)) #this takes average of adjacent cells\n",
    "    \n",
    "    vhrho_t = 0.5*(vhrho_j+vhrho_j.roll(yt_ocean=1, roll_coords = False))\n",
    "    vhrho_t = vhrho_t[:,1:-1,:] # remove the outside values as their roll is incorrect\n",
    "    #load dzt and pot_rho_1 \n",
    "    dzt_j = dzt[day,...]\n",
    "    dzt_j = dzt_j.fillna(0)\n",
    "    dzt_j = dzt_j.load()\n",
    "    \n",
    "    #vhrho and uhrho grids are from BAY(dzu) and BAX(dzu) NOT dzt: find these\n",
    "    dzt_j_right = dzt_j.roll(xt_ocean = -1, roll_coords = False)\n",
    "    dzt_j_up = dzt_j.roll(yt_ocean = -1,roll_coords = False)\n",
    "    dzt_j_up_right=dzt_j.roll(yt_ocean = -1,roll_coords = False).roll(xt_ocean = -1, roll_coords = False)\n",
    "    dzu = np.fmin(np.fmin(np.fmin(dzt_j,dzt_j_right),dzt_j_up),dzt_j_up_right)\n",
    "    #now the xgrid needs BAY(dzu) while ygrid needs BAX(dzu) so that they are on uhrho and vhrho grids. we only need to do one,\n",
    "    #as they are equivalent when interpolatred to t-grid. I chose to find BAX because I took dzt to have bigger lon range\n",
    "    dzu_e = dzu.copy()\n",
    "    dzu_w = dzu.roll(xt_ocean = 1, roll_coords=False)\n",
    "    BAX_dzu = (dzu_w+dzu_e)/2    \n",
    "    \n",
    "    #as with vhrho these need to be moved to t-grid in the same way:\n",
    "    dzt_j = 0.5*(BAX_dzu+BAX_dzu.roll(yt_ocean=1, roll_coords = False))\n",
    "    dzt_j = dzt_j[:,1:-1,:]\n",
    "\n",
    "    pot_rho_1_j = pot_rho_1[day,...]\n",
    "    pot_rho_1_j = pot_rho_1_j.fillna(0)\n",
    "    pot_rho_1_j = pot_rho_1_j.load()\n",
    "\n",
    "    print('succesfully loaded! now binning')\n",
    "    \n",
    "    for i in range(len(isopycnal_bins_sigma1)-1):\n",
    "        print(i)\n",
    "        #create masks for isopycnal binnning, that are 1 where the density that day is between two bin values, and 0 elsewhere\n",
    "        bin_mask = pot_rho_1_j.where(pot_rho_1_j<=isopycnal_bins_sigma1[i+1]).where(pot_rho_1_j>isopycnal_bins_sigma1[i])*0+1\n",
    "        # create a fractional value that splits the transport between each bin based on which bin it is closer to\n",
    "        bin_fractions = (isopycnal_bins_sigma1[i+1]-pot_rho_1_j * bin_mask)/(isopycnal_bins_sigma1[i+1]-isopycnal_bins_sigma1[i])\n",
    "        \n",
    "        ## vh - splits transport between the two bins and saves into vh_binned array\n",
    "        transport_across_contour_in_sigmalower_bin = ( vhrho_t * bin_mask * bin_fractions).sum(dim = 'st_ocean')\n",
    "        vh_binned[day,i,:,:] += transport_across_contour_in_sigmalower_bin.fillna(0)\n",
    "        del transport_across_contour_in_sigmalower_bin\n",
    "        transport_across_contour_in_sigmaupper_bin = ( vhrho_t * bin_mask * (1-bin_fractions)).sum(dim = 'st_ocean')\n",
    "        vh_binned[day,i+1,:,:] += transport_across_contour_in_sigmaupper_bin.fillna(0)\n",
    "        del transport_across_contour_in_sigmaupper_bin\n",
    "        \n",
    "        ## uh\n",
    "        transport_across_contour_in_sigmalower_bin = ( uhrho_t * bin_mask * bin_fractions).sum(dim = 'st_ocean')\n",
    "        uh_binned[day,i,:,:] += transport_across_contour_in_sigmalower_bin.fillna(0)\n",
    "        del transport_across_contour_in_sigmalower_bin\n",
    "        transport_across_contour_in_sigmaupper_bin = ( uhrho_t * bin_mask * (1-bin_fractions)).sum(dim = 'st_ocean')\n",
    "        uh_binned[day,i+1,:,:] += transport_across_contour_in_sigmaupper_bin.fillna(0)\n",
    "        del transport_across_contour_in_sigmaupper_bin\n",
    "        \n",
    "        ## h\n",
    "        transport_across_contour_in_sigmalower_bin = (dzt_j * bin_mask * bin_fractions).sum(dim = 'st_ocean')\n",
    "        h_binned[day,i,:,:] += transport_across_contour_in_sigmalower_bin.fillna(0)\n",
    "        del transport_across_contour_in_sigmalower_bin\n",
    "        transport_across_contour_in_sigmaupper_bin = (dzt_j * bin_mask * (1-bin_fractions)).sum(dim = 'st_ocean')\n",
    "        h_binned[day,i+1,:,:] += transport_across_contour_in_sigmaupper_bin.fillna(0)\n",
    "        del bin_mask, bin_fractions, transport_across_contour_in_sigmaupper_bin\n",
    "        \n",
    "    del pot_rho_1_j, dzt_j, uhrho_j, vhrho_j, uhrho_t, vhrho_t, dzt_j_right,dzt_j_up, dzt_j_up_right, BAX_dzu, dzu_e, dzu_w\n",
    "\n",
    "print('wow, done! have a nice day')"
   ]
  },
  {
   "cell_type": "code",
   "execution_count": 19,
   "metadata": {},
   "outputs": [
    {
     "data": {
      "text/plain": [
       "<matplotlib.collections.QuadMesh at 0x1538328f0550>"
      ]
     },
     "execution_count": 19,
     "metadata": {},
     "output_type": "execute_result"
    },
    {
     "data": {
      "image/png": "[encoded data removed]",
      "text/plain": [
       "<Figure size 640x480 with 2 Axes>"
      ]
     },
     "metadata": {},
     "output_type": "display_data"
    }
   ],
   "source": [
    "h_binned.isel(time = 0).isel(xt_ocean=5).plot()"
   ]
  },
  {
   "cell_type": "markdown",
   "metadata": {},
   "source": [
    "#### 12 mins for 3 days = 4 mins each day -> 1 month should take approx 2 hours."
   ]
  },
  {
   "cell_type": "code",
   "execution_count": null,
   "metadata": {},
   "outputs": [],
   "source": []
  }
 ],
 "metadata": {
  "kernelspec": {
   "display_name": "Python [conda env:analysis3-21.04]",
   "language": "python",
   "name": "conda-env-analysis3-21.04-py"
  },
  "language_info": {
   "codemirror_mode": {
    "name": "ipython",
    "version": 3
   },
   "file_extension": ".py",
   "mimetype": "text/x-python",
   "name": "python",
   "nbconvert_exporter": "python",
   "pygments_lexer": "ipython3",
   "version": "3.8.10"
  }
 },
 "nbformat": 4,
 "nbformat_minor": 4
}
